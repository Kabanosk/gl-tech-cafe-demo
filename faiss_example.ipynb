{
  "nbformat": 4,
  "nbformat_minor": 0,
  "metadata": {
    "colab": {
      "provenance": []
    },
    "kernelspec": {
      "name": "python3",
      "display_name": "Python 3"
    },
    "language_info": {
      "name": "python"
    }
  },
  "cells": [
    {
      "cell_type": "code",
      "source": [
        "!pip install -q faiss-cpu"
      ],
      "metadata": {
        "colab": {
          "base_uri": "https://localhost:8080/"
        },
        "id": "mQBBi8QPZeQZ",
        "outputId": "612b2947-e0b5-458b-8011-c5433caec43c"
      },
      "execution_count": 1,
      "outputs": [
        {
          "output_type": "stream",
          "name": "stdout",
          "text": [
            "\u001b[2K   \u001b[90m━━━━━━━━━━━━━━━━━━━━━━━━━━━━━━━━━━━━━━━━\u001b[0m \u001b[32m31.4/31.4 MB\u001b[0m \u001b[31m39.2 MB/s\u001b[0m eta \u001b[36m0:00:00\u001b[0m\n",
            "\u001b[?25h"
          ]
        }
      ]
    },
    {
      "cell_type": "code",
      "source": [
        "import time, math\n",
        "from typing import Any\n",
        "\n",
        "import numpy as np\n",
        "import faiss\n",
        "from sklearn.datasets import make_blobs"
      ],
      "metadata": {
        "id": "trBA3vbmZTy9"
      },
      "execution_count": 2,
      "outputs": []
    },
    {
      "cell_type": "markdown",
      "source": [
        "## Config"
      ],
      "metadata": {
        "id": "i2jPm5MgZ3vB"
      }
    },
    {
      "cell_type": "code",
      "source": [
        "NB = 50_000\n",
        "NQ = 20000\n",
        "D = 128\n",
        "K = 10\n",
        "SEED = 123\n",
        "\n",
        "# HNSW\n",
        "HNSW_M = 16\n",
        "HNSW_EF_CONS = 200\n",
        "HNSW_EF_SRCH = 64\n",
        "\n",
        "# IVF\n",
        "IVF_NLIST = max(1, int(NB ** 0.5))\n",
        "IVF_NPROBE = 1"
      ],
      "metadata": {
        "id": "kvogZn5KaIz2"
      },
      "execution_count": 3,
      "outputs": []
    },
    {
      "cell_type": "markdown",
      "source": [
        "## Helpers"
      ],
      "metadata": {
        "id": "6yc7gdr4aio_"
      }
    },
    {
      "cell_type": "code",
      "source": [
        "def now() -> float:\n",
        "    return time.perf_counter()\n",
        "\n",
        "def human_bytes(n: int) -> str:\n",
        "    if n is None: return \"-\"\n",
        "    if n == 0: return \"0 B\"\n",
        "    units = [\"B\",\"KB\",\"MB\",\"GB\",\"TB\"]\n",
        "    k = 1024.0\n",
        "    i = int(math.floor(math.log(n, k)))\n",
        "    i = min(i, len(units)-1)\n",
        "    return f\"{n / (k**i):.2f} {units[i]}\"\n",
        "\n",
        "def recall_at_k(I_pred: np.ndarray, I_true: np.ndarray) -> float:\n",
        "    nq, k = I_true.shape\n",
        "    hit = 0\n",
        "    for i in range(nq):\n",
        "        hit += len(set(I_pred[i]).intersection(I_true[i]))\n",
        "    return hit / (nq * k)\n",
        "\n",
        "def serialize_size_bytes(index: faiss.Index) -> int | None:\n",
        "    try:\n",
        "        b = faiss.serialize_index(index)\n",
        "        return len(b)\n",
        "    except Exception:\n",
        "        return None\n",
        "\n",
        "def compute_ground_truth(xb: np.ndarray, xq: np.ndarray, k: int) -> tuple[np.ndarray, float]:\n",
        "    ref = faiss.IndexFlatL2(xb.shape[1])\n",
        "    ref.add(xb)\n",
        "    t0 = now()\n",
        "    _, I_true = ref.search(xq, k)\n",
        "    return I_true, (now() - t0)\n",
        "\n",
        "def print_table(rows: list[dict[str, Any]]) -> None:\n",
        "    headers = [\n",
        "        \"method\",\"params\",\"train_s\",\"add_s\",\"build_s\",\n",
        "        \"search_s\",\"avg_ms_per_q\",\"recall@k\",\"index_size\"\n",
        "    ]\n",
        "    colw = {h: len(h) for h in headers}\n",
        "    fmt_rows = []\n",
        "    for r in rows:\n",
        "        rf = {\n",
        "            \"method\": r[\"method\"],\n",
        "            \"params\": r.get(\"params\",\"\") or \"-\",\n",
        "            \"train_s\": f'{r[\"train_s\"]:.3f}',\n",
        "            \"add_s\": f'{r[\"add_s\"]:.3f}',\n",
        "            \"build_s\": f'{r[\"build_s\"]:.3f}',\n",
        "            \"search_s\": f'{r[\"search_s\"]:.3f}',\n",
        "            \"avg_ms_per_q\": f'{r[\"avg_ms_per_q\"]:.3f}',\n",
        "            \"recall@k\": f'{r[\"recall_at_k\"]:.4f}',\n",
        "            \"index_size\": human_bytes(r[\"index_size_bytes\"]) if r[\"index_size_bytes\"] is not None else \"-\"\n",
        "        }\n",
        "        for h in headers:\n",
        "            colw[h] = max(colw[h], len(str(rf[h])))\n",
        "        fmt_rows.append(rf)\n",
        "    line = \" | \".join(h.ljust(colw[h]) for h in headers)\n",
        "    sep  = \"-+-\".join(\"-\"*colw[h] for h in headers)\n",
        "    print(line); print(sep)\n",
        "    for rf in fmt_rows:\n",
        "        print(\" | \".join(str(rf[h]).ljust(colw[h]) for h in headers))"
      ],
      "metadata": {
        "id": "DLHfxBQ1aIn4"
      },
      "execution_count": 5,
      "outputs": []
    },
    {
      "cell_type": "code",
      "source": [
        "def _sample_centers(num_clusters: int, dim: int, center_box=(-20.0, 20.0), seed: int = 123) -> np.ndarray:\n",
        "    rng = np.random.default_rng(seed)\n",
        "    low, high = center_box\n",
        "    centers = rng.uniform(low, high, size=(num_clusters, dim)).astype(np.float32)\n",
        "    return centers\n",
        "\n",
        "def generate_data(\n",
        "    num_base_vectors: int,\n",
        "    num_query_vectors: int,\n",
        "    dim: int,\n",
        "    num_clusters: int,\n",
        "    cluster_std_base: float = 0.50,\n",
        "    cluster_std_query: float = 0.15,\n",
        "    center_box = (-20.0, 20.0),\n",
        "    seed: int = 123,\n",
        ") -> tuple[np.ndarray, np.ndarray]:\n",
        "    \"\"\"\n",
        "    Tworzy mieszankę gaussów z tymi samymi centrami dla bazy i zapytań.\n",
        "    To sprzyja IVF (nprobe=1-2) przy nlist ~= liczba klastrów.\n",
        "    \"\"\"\n",
        "    centers = _sample_centers(num_clusters, dim, center_box=center_box, seed=seed)\n",
        "    xb, _ = make_blobs(\n",
        "        n_samples=num_base_vectors,\n",
        "        centers=centers,\n",
        "        cluster_std=cluster_std_base,\n",
        "        random_state=seed,\n",
        "        n_features=dim,\n",
        "    )\n",
        "    xq, _ = make_blobs(\n",
        "        n_samples=num_query_vectors,\n",
        "        centers=centers,\n",
        "        cluster_std=cluster_std_query,\n",
        "        random_state=seed + 1,\n",
        "        n_features=dim,\n",
        "    )\n",
        "    return xb.astype(np.float32), xq.astype(np.float32)"
      ],
      "metadata": {
        "id": "wCTh7FPxi9tl"
      },
      "execution_count": 6,
      "outputs": []
    },
    {
      "cell_type": "markdown",
      "source": [
        "## Building the index"
      ],
      "metadata": {
        "id": "vNrJwLs_a9dj"
      }
    },
    {
      "cell_type": "code",
      "source": [
        "def build_index_knn(d: int) -> faiss.Index:\n",
        "    return faiss.IndexFlatL2(d)\n",
        "\n",
        "def build_index_hnsw(d: int, M: int = HNSW_M, efC: int = HNSW_EF_CONS, efS: int = HNSW_EF_SRCH) -> faiss.Index:\n",
        "    idx = faiss.IndexHNSWFlat(d, M)\n",
        "    idx.hnsw.efConstruction = efC\n",
        "    idx.hnsw.efSearch = efS\n",
        "    return idx\n",
        "\n",
        "def build_index_ivf(d: int, nlist: int = IVF_NLIST, metric=faiss.METRIC_L2) -> faiss.Index:\n",
        "    quantizer = faiss.IndexFlatL2(d)\n",
        "    idx = faiss.IndexIVFFlat(quantizer, d, nlist, metric)\n",
        "    return idx"
      ],
      "metadata": {
        "id": "kcEp6WnjaIfb"
      },
      "execution_count": 7,
      "outputs": []
    },
    {
      "cell_type": "markdown",
      "source": [
        "## Index operations"
      ],
      "metadata": {
        "id": "XA-rr7m5bFlj"
      }
    },
    {
      "cell_type": "code",
      "execution_count": 8,
      "metadata": {
        "id": "xCCJOwQfJosN"
      },
      "outputs": [],
      "source": [
        "def train_if_needed(index: faiss.Index, xb: np.ndarray) -> float:\n",
        "    \"\"\"Trenuje index jeśli wymaga treningu (np. IVF). Zwraca czas treningu.\"\"\"\n",
        "    if index.is_trained:\n",
        "        return 0.0\n",
        "    t0 = now()\n",
        "    index.train(xb)\n",
        "    return now() - t0\n",
        "\n",
        "def add_vectors(index: faiss.Index, xb: np.ndarray) -> float:\n",
        "    t0 = now()\n",
        "    index.add(xb)\n",
        "    return now() - t0\n",
        "\n",
        "def search_index(index: faiss.Index, xq: np.ndarray, k: int) -> tuple[np.ndarray, np.ndarray, float]:\n",
        "    # krótki warmup niweluje jednorazowe koszty\n",
        "    _ = index.search(xq[: min(10, len(xq))], k)\n",
        "    t0 = now()\n",
        "    D, I = index.search(xq, k)\n",
        "    t = now() - t0\n",
        "    return D, I, t"
      ]
    },
    {
      "cell_type": "markdown",
      "source": [
        "## Benchmarking"
      ],
      "metadata": {
        "id": "yoOfqp4ccB1_"
      }
    },
    {
      "cell_type": "code",
      "source": [
        "def benchmark_index(\n",
        "    index: faiss.Index,\n",
        "    name: str,\n",
        "    xb: np.ndarray,\n",
        "    xq: np.ndarray,\n",
        "    k: int,\n",
        "    extra_setup=None\n",
        ") -> dict[str, Any]:\n",
        "    \"\"\"\n",
        "    Mierzy: train_s, add_s, build_s, search_s, qps, avg_ms_per_q, index_size_bytes.\n",
        "    extra_setup: opcjonalna funkcja(index) -> None (np. ustawienie nprobe).\n",
        "    \"\"\"\n",
        "    if extra_setup:\n",
        "        extra_setup(index)\n",
        "\n",
        "    t_train = train_if_needed(index, xb)\n",
        "    t_add = add_vectors(index, xb)\n",
        "    _, I_pred, t_search = search_index(index, xq, k)\n",
        "\n",
        "    return {\n",
        "        \"method\": name,\n",
        "        \"train_s\": t_train,\n",
        "        \"add_s\": t_add,\n",
        "        \"build_s\": t_train + t_add,\n",
        "        \"search_s\": t_search,\n",
        "        \"qps\": (len(xq) / t_search) if t_search > 0 else float(\"inf\"),\n",
        "        \"avg_ms_per_q\": (t_search / len(xq) * 1000.0),\n",
        "        \"I_pred\": I_pred,  # do wyliczenia recall\n",
        "        \"index_size_bytes\": serialize_size_bytes(index),\n",
        "        \"params\": \"\",\n",
        "    }"
      ],
      "metadata": {
        "id": "HWpNg2QtcAq7"
      },
      "execution_count": 9,
      "outputs": []
    },
    {
      "cell_type": "code",
      "source": [
        "def run_benchmark_default(nb=NB, nq=NQ, d=D, k=K, seed=SEED) -> list[dict[str, Any]]:\n",
        "    xb, xq = generate_data(\n",
        "        num_base_vectors=NB,\n",
        "        num_query_vectors=NQ,\n",
        "        dim=D,\n",
        "        num_clusters=IVF_NLIST*2,\n",
        "        cluster_std_base=0.50,\n",
        "        cluster_std_query=0.15,\n",
        "        center_box=(-20.0, 20.0),\n",
        "        seed=SEED,\n",
        "    )\n",
        "\n",
        "    I_true, t_gt = compute_ground_truth(xb, xq, k)\n",
        "    print(f\"[info] Ground truth (IndexFlatL2) search time: {t_gt:.3f}s\")\n",
        "\n",
        "    results: List[Dict[str, Any]] = []\n",
        "\n",
        "    idx_knn = build_index_knn(d)\n",
        "    r_knn = benchmark_index(idx_knn, \"KNN(IndexFlatL2)\", xb, xq, k)\n",
        "    r_knn[\"params\"] = \"-\"\n",
        "    r_knn[\"recall_at_k\"] = recall_at_k(r_knn[\"I_pred\"], I_true)\n",
        "    results.append(r_knn)\n",
        "\n",
        "    idx_hnsw = build_index_hnsw(d, M=HNSW_M, efC=HNSW_EF_CONS, efS=HNSW_EF_SRCH)\n",
        "    r_hnsw = benchmark_index(idx_hnsw, \"HNSW(IndexHNSWFlat)\", xb, xq, k)\n",
        "    r_hnsw[\"params\"] = f\"M={HNSW_M}, efC={HNSW_EF_CONS}, efS={HNSW_EF_SRCH}\"\n",
        "    r_hnsw[\"recall_at_k\"] = recall_at_k(r_hnsw[\"I_pred\"], I_true)\n",
        "    results.append(r_hnsw)\n",
        "\n",
        "    if nb < IVF_NLIST:\n",
        "        print(f\"[warn] nb({nb}) < nlist({IVF_NLIST}); zmniejszam nlist do nb\")\n",
        "        nlist = nb\n",
        "    else:\n",
        "        nlist = IVF_NLIST\n",
        "\n",
        "    def _ivf_setup(idx):\n",
        "        if hasattr(idx, \"nprobe\"):\n",
        "            idx.nprobe = IVF_NPROBE\n",
        "\n",
        "    idx_ivf = build_index_ivf(d, nlist=nlist)\n",
        "    r_ivf = benchmark_index(idx_ivf, \"IVF(IndexIVFFlat)\", xb, xq, k, extra_setup=_ivf_setup)\n",
        "    r_ivf[\"params\"] = f\"nlist={nlist}, nprobe={IVF_NPROBE}\"\n",
        "    r_ivf[\"recall_at_k\"] = recall_at_k(r_ivf[\"I_pred\"], I_true)\n",
        "    results.append(r_ivf)\n",
        "\n",
        "    for r in results:\n",
        "        r.pop(\"I_pred\", None)\n",
        "\n",
        "    return results\n"
      ],
      "metadata": {
        "id": "GiHDcL4-bMqH"
      },
      "execution_count": 10,
      "outputs": []
    },
    {
      "cell_type": "code",
      "source": [
        "rows = run_benchmark_default()\n",
        "print()\n",
        "print_table(rows)"
      ],
      "metadata": {
        "colab": {
          "base_uri": "https://localhost:8080/"
        },
        "id": "UsB2I4fGbf_l",
        "outputId": "942b3159-fbea-4249-ca6f-c96f30d68e91"
      },
      "execution_count": 11,
      "outputs": [
        {
          "output_type": "stream",
          "name": "stdout",
          "text": [
            "[info] Ground truth (IndexFlatL2) search time: 7.210s\n",
            "\n",
            "method              | params                | train_s | add_s  | build_s | search_s | avg_ms_per_q | recall@k | index_size\n",
            "--------------------+-----------------------+---------+--------+---------+----------+--------------+----------+-----------\n",
            "KNN(IndexFlatL2)    | -                     | 0.000   | 0.013  | 0.013   | 8.009    | 0.400        | 1.0000   | 24.41 MB  \n",
            "HNSW(IndexHNSWFlat) | M=16, efC=200, efS=64 | 0.000   | 11.349 | 11.349  | 0.917    | 0.046        | 0.9962   | 31.30 MB  \n",
            "IVF(IndexIVFFlat)   | nlist=223, nprobe=1   | 0.813   | 0.104  | 0.917   | 0.338    | 0.017        | 0.9909   | 24.91 MB  \n"
          ]
        }
      ]
    },
    {
      "cell_type": "code",
      "source": [],
      "metadata": {
        "id": "duCmAkORcGTk"
      },
      "execution_count": 11,
      "outputs": []
    }
  ]
}